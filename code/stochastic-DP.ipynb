{
 "cells": [
  {
   "cell_type": "markdown",
   "metadata": {},
   "source": [
    "# The Stochastic Neoclassical Growth Model\n",
    "\n",
    "## Intro and Setup\n",
    "\n",
    "In this problem set we will solve \n",
    "\n",
    "$$ \\begin{align}\n",
    "V(k,z) &= \\max_{0\\leq k'\\leq e^z f(k)} u(e^z f(k) - k') + \\beta E[V(k',z')] \\\\\n",
    "u(c) &= \\ln c \\\\\n",
    "f(k) &= Ak^\\alpha \\\\\n",
    "\\end{align}\n",
    "$$\n",
    "\n",
    "This formulation admits a closed form solution to the optimal policy, given by $k' = e^z \\alpha \\beta A k^\\alpha$. \n",
    "\n",
    "We assume that the productivity shock is distributed $z\\sim N(0,\\sigma^2)$.\n",
    "\n",
    "* Approximate the continuous state space $(k,z)$ by two grids $K={k_1,k_2,\\dots,k_n},Z={z_1,\\dots,z_m}$. Given the grid $Z$, let $q_j$ represent $\\Pr(z=z_j)$, i.e. the probability mass function of our discrete approximation to $z \\sim N(0,\\sigma^2).$\n",
    "* Under those assumptions, the discretized Bellman Equation is given by \n",
    "\n",
    "$$ V(k_i,z_j) = \\max_{i'=1,2,\\dots,n} u(\\exp{z_j} f(k_i) - k_{i'}) + \\beta \\sum_{j'=1}^m q_j V(i',j') $$\n",
    "\n",
    "* Notice that we are just choosing next period's index for $k'$ in the grid $K$, denoted $i'$.\n",
    "* We will represent $V(k,z)$ by an $(n,m)$ matrix.\n",
    "* We are constraining the choice variable $k'$ in $V$ to be on the grid of capital as well.\n",
    "* Set the following parameter values:\n",
    "\n",
    "| Parameter | Value |\n",
    "|----------| -------|\n",
    "|$\\beta$| 0.96 |\n",
    "|$\\alpha$| 0.96 |\n",
    "|$A $| $\\frac{1}{\\alpha \\beta}$ |\n",
    "|$n$| 55 |\n",
    "|$m$| 51 |\n",
    "|$k_1$| 0.08 |\n",
    "|$k_n$| 3.8 |\n",
    "|$\\sigma$| 0.5 |\n",
    "|`tol`| 1e-6 |\n",
    "\n",
    "   where `tol` is a tolerance level for convergence.\n",
    "\n",
    "\n",
    "* We will approximate the normal shock $z$ at an equi-spaced grid $Z={z_1,\\dots,z_m}$, between $-3\\sigma$ and $3\\sigma$. We can create an equispaced grid with the `linspace` function (do `?linspace` to find out how it works), and we will approximate the normal distribution by\n",
    "\n",
    "    $$ q_j = \\frac{\\phi(z_j)}{\\sum_{k=1}^m \\phi(z_k)} $$\n",
    " \n",
    "    where $\\phi$ is the pdf of $z \\sim N(0,\\sigma^2)$. We divide by this denomiator in order to make sure that the probabilities sum to one. You should use the `Distributions` package to get the Normal distribution. You would do\n",
    "    ```julia\n",
    "    Pkg.add(\"Distributions\")\n",
    "    using Distributions\n",
    "    norm = Normal(0,sigma)    # create a normal dist with mean 0 and standard dev sigma\n",
    "    ```\n",
    "    and you could then easily get the pdf of this distribution with the function `pdf`. Again, do `?pdf` to find out how exactly what works.\n",
    "* Plot the result of this approximation exercise, i.e. plot $z_j$ vs $q_j$, as well as $\\exp(z_j)$ vs $q_j$"
   ]
  },
  {
   "cell_type": "markdown",
   "metadata": {},
   "source": [
    "## A first implementation\n",
    "\n",
    "Write Julia code to numerically solve this problem using value function iteration, discretizing both state and control space.\n",
    "\n",
    "1. Set an initial guess $V^0 = $ `zeros(n,m)`.\n",
    "2. Given current iteration $r$, compute the next iteration from \n",
    "\n",
    "    $$ V^{r+1}(k_i,z_j) = \\max_{i'=1,2,\\dots,n} u(\\exp{z_j} f(k_i) - k_{i'}) + \\beta \\sum_{j'=1}^m q_j V^r(i',j') $$\n",
    "\n",
    "3. One way to do this is to write two nested loops. The outer loop is over all values of $k_i$ and $z_j$, the inner one is over next period  $k_{i'}$. There is a useful function `enumerate`, which you may use. (type `?enumerate` to see what it does).\n",
    "4. Using the current guess $V^r$, compute the part $\\sum_{j'=1}^m q_j V^r(i',j')$ as a simple matrix multiplication. Remember that $V^r$ is indexed by `(k,z)`. Multiplying $V^r$ by the vector $q$ therefore represents exatly that sum.\n",
    "    ```julia\n",
    "    EV = V0 * q   # (n,m) * (m,1) = (n,1)\n",
    "    ```\n",
    "5. Using an auxiliary vector `w=zeros(n)`, the double loop structure could look something like\n",
    "    ```julia\n",
    "    #looping over k\n",
    "        #looping over z\n",
    "            #looping over all choices k'\n",
    "                # computing implied V at that (k,z,k') combination\n",
    "                # and store in w\n",
    "            # take the max over w (findmax)\n",
    "            # store max(w) in v(k,z)\n",
    "        #\n",
    "    #\n",
    "    ```\n",
    "6. you need to be careful to avoid negative consumption values for some choices of $k'$. An easy way to do this is include an `if` statement like \n",
    "    ```julia\n",
    "    cons = exp(z)*f(k) - kprime\n",
    "    if cons < 0\n",
    "        w[iprime] = -Inf\n",
    "    else\n",
    "        w[iprime] = log(exp(z)*f(k) - kprime) + beta * EV[iprime]\n",
    "    end\n",
    "    ```\n",
    "    this assigns a very low value to negative consumption, thereby preventing this from being the optimal choice.\n",
    "    \n",
    "7. Using functions `bellman_operator` and `VFI` as in class, or directly in the console, perform value function iteration to find $V$. Make sure to include a test after each iteration to check whether you've converged. This could look something like\n",
    "\n",
    "    ```julia\n",
    "    if maxabs(V0.-V1) < tol\n",
    "        println(\"Found solution after $iter iterations\")\n",
    "        break\n",
    "    end\n",
    "    ```\n",
    "    \n",
    "8. You may find the function `findmax` useful. it returns the maximium value and it's position in an array.\n",
    "9. Notice that the policy function will return an optimal *index* of capital, not an optimal capital level (i.e. it will return an integer in $K$)."
   ]
  },
  {
   "cell_type": "markdown",
   "metadata": {},
   "source": [
    "## Plot the results\n",
    "\n",
    "* Plot the value function for all levels of the z shock. (In PyPlot, doing `plot(x,V)` where `V` is a matrix automatically plots each column as a separate line)"
   ]
  },
  {
   "cell_type": "markdown",
   "metadata": {},
   "source": [
    "* Plot the Policy function for each level of z"
   ]
  },
  {
   "cell_type": "markdown",
   "metadata": {},
   "source": [
    "* can you comment on the shape of those policy functions? Do the *true* policy functions look like that?\n",
    "* For $z=z_1$ plot the true and our approximate policy function in the same plot. Notice that our policy function gives the *index* of the optimal capital choice, not the level. So, in order to plot optimal capital, you need to pick the corresponding values from $\\mathcal{K}$, as in `optimal_k = kgrid[P[:,1]]`."
   ]
  },
  {
   "cell_type": "markdown",
   "metadata": {},
   "source": [
    "## Transition Function\n",
    "\n",
    "* The policy function together with the distribution of $z$ determines a transition function of the state space from  $(k_i,z_j)$ to $(k_l,z_m)$. We need to compute the probability that given $(k_i,z_j)$, what is the probability that we end up in state $(k_l,z_m)$ tomorrow. This is easiest accomplished with a 4D array, where the first two dimensions are for $(k_i,z_j)$, and the last two for $(k_l,z_m)$. Each entry gives the probability of going into that state.\n",
    "* Try to compute this transition function. you must fill this 4D array: `I = zeros(n,m,n,m)`. At each position in that array you want to combine \n",
    "    - the optimal choice $P(k,z)$ with \n",
    "    - the probability of going to next period's $z$, i.e. $\\mathbf{q}$\n",
    "    - you want some code that expresses *if the optimal index of k' is kprime, what's the probability of that and a  zshock of level zprime*"
   ]
  },
  {
   "cell_type": "markdown",
   "metadata": {},
   "source": [
    "* We want an *invariant* transition function. In order to find this, we can iterate on `Pi`. The idea is that "
   ]
  }
 ],
 "metadata": {
  "kernelspec": {
   "display_name": "Julia 0.4.0",
   "language": "julia",
   "name": "julia-0.4"
  },
  "language_info": {
   "file_extension": ".jl",
   "mimetype": "application/julia",
   "name": "julia",
   "version": "0.4.0"
  }
 },
 "nbformat": 4,
 "nbformat_minor": 0
}
