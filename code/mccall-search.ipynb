{
 "cells": [
  {
   "cell_type": "markdown",
   "metadata": {},
   "source": [
    "# McCall Search Model\n",
    "\n",
    "Consider the job search model described in the lecture and in section 6.3 of Ljungqvist and Sargent. Recall that workers live forever, when unemployed the worker draws a wage each period from the distribution F(w), once a wage is accepted the jobs last forever, the worker receives unemployment benefit c\n",
    "  when not employed, and has discount factor \\beta. The value function for this problem satisfies the Bellman equation\n",
    "  \n",
    "  $$v(w)=\\max\\left\\{ \\frac{w}{1-\\beta},c+\\beta EV(w')\\right\\} $$\n",
    " \n",
    "\n",
    "For the parameter values $\\beta=0.9,c=2$, and the wage distribution given by\n",
    "\n",
    "| $w_i$ | 1 | 2 | 3 | ... | 100 |\n",
    "|--------|----|---|---|----|-----|\n",
    "| Prob $W=w_i$| 0.01 | 0.01 | | | 0.01 |\n",
    "\n",
    "\n",
    "## question 1: write a julia program to solve the bellman equation by value function iteration.\n",
    "\n",
    "Here is a way to proceed:\n",
    "\n",
    "* Create 4 (100,1) zero vectors `V0,V1,w,p` as well as scalars `beta` and `c`.\n",
    "* initiate `w` and `p` to contain the correct values.\n",
    "* in a loop do something like\n",
    "\n",
    "```julia\n",
    "    for i in 1:maxIter\n",
    "        EV = p*V0  # a scalar\n",
    "        V1 = maximum(w.*(1/1-beta), c + beta*EV)   # not tested\n",
    "        # if V1-V0 is small, stop\n",
    "        \n",
    "    end\n",
    "```\n",
    "\n",
    "* What is the reservation wage?\n",
    "* plot $c+\\beta EV(w'),V1$ against $w$\n",
    "\n",
    "## question 2: different wage offer distribution\n",
    "\n",
    "* Redo this exercise for a different wage distribution with thin right tails: Assume that for $w_i\n",
    "= {1,2,3,\\dots,100}$, \n",
    "\n",
    "$$ \\Pr(W=w_i) = \\frac{w_i^{-1} }{\\sum_{j=1}^{100} w_j^{-1}} $$\n",
    "\n",
    "* Store this distribution in a second vector `p2`.\n",
    "* Plot both offer distributions.\n",
    "* how does the reservation wage differ?\n",
    "* What happens as you increase/decrease $c$ and $\\beta$? In particular, what if $\\beta\\to0,\\beta\\to1$?\n",
    "* plot $c+\\beta EV(w'),V1$ against $w$\n",
    "\n",
    "## question 3: add the a probability of getting fired\n",
    "\n",
    "* Same model as above (with wage distribution `p2`).\n",
    "* Add parameter $\\alpha=0.1$ as the probability for a worker of getting fired in each period. \n",
    "* Look at the lecture notes for guidance.\n",
    "* Plot $c+\\beta EV(w'),V1$ against $w$ as well in this case.\n",
    "* What's going to happen as the probability of getting fired increases?\n",
    "        \n",
    "    \n"
   ]
  },
  {
   "cell_type": "code",
   "execution_count": null,
   "metadata": {
    "collapsed": true
   },
   "outputs": [],
   "source": []
  }
 ],
 "metadata": {
  "kernelspec": {
   "display_name": "Julia 0.4.0",
   "language": "julia",
   "name": "julia-0.4"
  },
  "language_info": {
   "file_extension": ".jl",
   "mimetype": "application/julia",
   "name": "julia",
   "version": "0.4.0"
  }
 },
 "nbformat": 4,
 "nbformat_minor": 0
}
