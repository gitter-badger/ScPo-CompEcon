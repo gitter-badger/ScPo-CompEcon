{
 "cells": [
  {
   "cell_type": "markdown",
   "metadata": {},
   "source": [
    "# Deterministic Growth Model Dynamic Program\n",
    "\n",
    "(This is my version of the example at [Sargent and Stachurski's quant-econ website](http://quant-econ.net/jl/dp_intro.html). Please observe the license file at the root of this repository.)\n",
    "\n",
    "In this notebook we'll implement the deterministic growth model as a dynamic programming problem. We will assume log utility to get a closed form solution. \n",
    "Remember that the problem is defined as\n",
    "$$ \\begin{align}\n",
    "   V(k) &= \\max_{0<k'<f(k)} \\ln(f(k) - k') + \\beta V(k')\\\\\n",
    "     f(k)   & = k^\\alpha\\\\\n",
    "     k_0   & \\text{given} \n",
    "     \\end{align}\n",
    "$$\n",
    "\n",
    "## Representing a function on $\\mathbb{R}$ in a computer\n",
    "     \n",
    "* The first thing to realise is that we cannot represent $V(k),k\\in \\mathbb{R}$ on a computer.  However, we can get an arbitrarily good approximation to  $\\mathbb{R}$. \n",
    "* We will approximate $k$ at a finite number of points $K={k_1,\\dots,k_n}$, called a *grid*. \n",
    "* In other words, we will compute $V(k)$ above only at the list of points in $K$. \n",
    "* There is a slight complication that arises from the $\\max$ operator: \n",
    "    * Ideally, we would like to choose $c$ out of the **continuous** interval $[0,f(k)]$, and not be restricted to the grid $K$. \n",
    "    * In order to achieve this, we must find a way to represent $V(k)$ for values off the grid. \n",
    "    * In other words, we will know a list of values $V(k_1),\\dots,V(k_n)$, but will most of the time need a value $V(x),x\\in (k_i,k_{i+1})$ when we perform the operation $\\max_{0<k'<f(k)}$. \n",
    "    * We will *linearly interpolate* such a value $x$, which is similar to *connecting the dots*.\n",
    "\n",
    "## Set some parameter values:"
   ]
  },
  {
   "cell_type": "code",
   "execution_count": null,
   "metadata": {
    "collapsed": false
   },
   "outputs": [],
   "source": [
    "alpha     = 0.65\n",
    "beta      = 0.95\n",
    "grid_max  = 2  # upper bound of capital grid\n",
    "n         = 150\n",
    "kgrid     = 1e-6:(grid_max-1e-6)/(n-1):grid_max  # equispaced grid\n",
    "f(x) = x^alpha  # defines the production function f(k)"
   ]
  },
  {
   "cell_type": "markdown",
   "metadata": {},
   "source": [
    "Next, because of our log assumption, we know that there is a closed form solution here. It is characterized by 2 constants $c_1,c_2$. We know the true solution to the value function, denoted $V^*$:"
   ]
  },
  {
   "cell_type": "code",
   "execution_count": null,
   "metadata": {
    "collapsed": false
   },
   "outputs": [],
   "source": [
    "ab        = alpha * beta\n",
    "c1        = (log(1 - ab) + log(ab) * ab / (1 - ab)) / (1 - beta)\n",
    "c2        = alpha / (1 - ab)\n",
    "v_star(k) = c1 .+ c2 .* log(k)\t# this defines a function v_star"
   ]
  },
  {
   "cell_type": "markdown",
   "metadata": {},
   "source": [
    "We will now apply the bellman operator to the functional in the above definition. The operator takes a current guess $V^i$ and returns the next iterate $V^{i+1}$. We define the operator as\n",
    "$$\\begin{align} T(V)(k) =& \\max_{0<k'<f(k)} \\ln(f(k) - k') + \\beta V(k') \\\\\n",
    "                V^{i+1}(k) =& \\max_{0<k'<f(k)} \\ln(f(k) - k') + \\beta V^{i}(k') \n",
    "                \\end\n",
    "                {align}$$"
   ]
  },
  {
   "cell_type": "code",
   "execution_count": null,
   "metadata": {
    "collapsed": false
   },
   "outputs": [],
   "source": [
    "# bellman operator function\n",
    "# that takes a grid and a vector of current function values\n",
    "# input: * grid: vector of capital at which V is defined\n",
    "#        * w: vector of values with current function values\n",
    "# output: * Tw: vector of next iteration function values\n",
    "function bellman_operator(grid, w)\n",
    "    \n",
    "    # 1) we need an object that interpolates the current guess in w\n",
    "    \n",
    "    # 2) create a vector to hold the result\n",
    "\n",
    "    # 3) for all grid points k, do the maximization\n",
    "        # 4) at each grid point, define an objective function\n",
    "            # 5) and find the max of that function. \n",
    "            # 6) save that in the result vector\n",
    "\n",
    "    # 7) return the next guess\n",
    "end"
   ]
  },
  {
   "cell_type": "code",
   "execution_count": null,
   "metadata": {
    "collapsed": false
   },
   "outputs": [],
   "source": [
    "# we will use some tools from the Grid package to interpolate:\n",
    "using Grid: CoordInterpGrid, BCnan, InterpLinear\n",
    "# and to the function \"optimize\" to the max operation:\n",
    "using Optim: optimize\n",
    "\n",
    "# bellman operator function\n",
    "# that takes a grid and a vector of current function values\n",
    "# input:  * grid: vector of capital at which V is defined\n",
    "#         * w: vector of values with current function values\n",
    "# output: * Tw: vector of next iteration function values\n",
    "function bellman_operator(grid, w)\n",
    " \n",
    "    # 1) we need an object that interpolates the current guess in w\n",
    "    Interp = CoordInterpGrid(grid, w, BCnan, InterpLinear)\n",
    "    \n",
    "    # 2) create a vector to hold the result\n",
    "    Tw = zeros(w)\n",
    "\n",
    "    # 3) for all grid points k, do the maximization\n",
    "   for (i, k) in enumerate(grid)\n",
    "        # 4) at each grid point, define an objective function\n",
    "        objective(c) = - log(c) - beta * Interp[f(k) - c]\n",
    "        # 5) and find the max of that function. \n",
    "        # find max of ojbective between [0,k^alpha]\n",
    "        res = optimize(objective, 1e-6, f(k)) \n",
    "        # 6) save that in the result vector\n",
    "        Tw[i] = - objective(res.minimum)\n",
    "    end\n",
    "    #7) return the next guess\n",
    "    return Tw\n",
    "end"
   ]
  },
  {
   "cell_type": "markdown",
   "metadata": {},
   "source": [
    "We are now ready to start the Value function iteration. We will call `bellman_operator` for a couple of times now and see how the convergence proceeds."
   ]
  },
  {
   "cell_type": "code",
   "execution_count": null,
   "metadata": {
    "collapsed": false
   },
   "outputs": [],
   "source": [
    "# value function iteration (VFI) \n",
    "# input:  * Integer maxIter: max number of iterations\n",
    "# output: * matrix Vfuns: each column is an iterate on V\n",
    "function VFI(grid,V0::Vector,maxIter::Int)\n",
    "    w = zeros(length(grid),maxIter)\n",
    "    w[:,1] = V0 # initial condition\n",
    "    # start iteration\n",
    "    for i=2:maxIter\n",
    "        w[:,i] = bellman_operator(grid, w[:,i-1])\n",
    "    end\n",
    "    return w\n",
    "end\n"
   ]
  },
  {
   "cell_type": "code",
   "execution_count": null,
   "metadata": {
    "collapsed": false
   },
   "outputs": [],
   "source": [
    "# let's do it!\n",
    "v0 = 5 .* log(kgrid) .- 25  #initial condition\n",
    "V = VFI(kgrid,v0,35);"
   ]
  },
  {
   "cell_type": "code",
   "execution_count": null,
   "metadata": {
    "collapsed": false
   },
   "outputs": [],
   "source": [
    "# setup a plot using the PyPlot package\n",
    "using PyPlot\n",
    "function plotVfun(V::Matrix,grid)\n",
    "    fig, ax = subplots()\n",
    "    maxIter = size(V,2)\n",
    "    ax[:set_ylim](-40, -20)\n",
    "    ax[:set_xlim](minimum(grid), maximum(grid))\n",
    "    lb = \"initial condition\"\n",
    "    jet = ColorMap(\"jet\")[:__call__]\n",
    "    # plot initial guess\n",
    "    ax[:plot](grid, V[:,1], color=jet(0), lw=2, alpha=0.6, label=lb)\n",
    "    # plot other iterates\n",
    "    for i=2:maxIter\n",
    "        ax[:plot](grid, V[:,i], color=jet(i/maxIter), lw=2, alpha=0.6)\n",
    "    end\n",
    "    # plot true value function\n",
    "     lb = \"true value function\"\n",
    "    # we defined the analytic \"v_star\" above\n",
    "    ax[:plot](grid, v_star(grid), \"k-\", lw=2, alpha=0.8, label=lb)\n",
    "    ax[:legend](loc=\"upper left\")\n",
    "    return fig\n",
    "end"
   ]
  },
  {
   "cell_type": "code",
   "execution_count": null,
   "metadata": {
    "collapsed": false,
    "scrolled": false
   },
   "outputs": [],
   "source": [
    "plotVfun(V,kgrid)"
   ]
  },
  {
   "cell_type": "markdown",
   "metadata": {
    "collapsed": true
   },
   "source": [
    "If we run this for longer, we will get closer to the truth:"
   ]
  },
  {
   "cell_type": "code",
   "execution_count": null,
   "metadata": {
    "collapsed": false
   },
   "outputs": [],
   "source": [
    "v0 = 5 .* log(kgrid) .- 25  #initial condition\n",
    "V = VFI(kgrid,v0,70);\n",
    "plotVfun(V,kgrid)"
   ]
  },
  {
   "cell_type": "markdown",
   "metadata": {},
   "source": [
    "## what about a different initial condition?"
   ]
  },
  {
   "cell_type": "code",
   "execution_count": null,
   "metadata": {
    "collapsed": false
   },
   "outputs": [],
   "source": [
    "v0 = ones(length(kgrid)) .* -30.0  #a straight line at -30\n",
    "V = VFI(kgrid,v0,35);\n",
    "plotVfun(V,kgrid)"
   ]
  },
  {
   "cell_type": "code",
   "execution_count": null,
   "metadata": {
    "collapsed": true
   },
   "outputs": [],
   "source": []
  }
 ],
 "metadata": {
  "kernelspec": {
   "display_name": "Julia 0.4.0",
   "language": "julia",
   "name": "julia-0.4"
  },
  "language_info": {
   "file_extension": ".jl",
   "mimetype": "application/julia",
   "name": "julia",
   "version": "0.4.0"
  }
 },
 "nbformat": 4,
 "nbformat_minor": 0
}
